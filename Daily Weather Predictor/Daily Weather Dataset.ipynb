{
 "cells": [
  {
   "cell_type": "code",
   "execution_count": 1,
   "id": "74d4cd4d-0871-40cd-9d50-c62e2e12994c",
   "metadata": {},
   "outputs": [],
   "source": [
    "import pandas as pd"
   ]
  },
  {
   "cell_type": "code",
   "execution_count": 2,
   "id": "b2e6090a-f34d-4412-ba13-72b4d7f7729a",
   "metadata": {},
   "outputs": [],
   "source": [
    "data = pd.read_csv('daily_weather.csv')"
   ]
  },
  {
   "cell_type": "code",
   "execution_count": 7,
   "id": "096c2e81-7d0f-4610-9c16-c6faa996c780",
   "metadata": {},
   "outputs": [
    {
     "data": {
      "text/plain": [
       "Index(['number', 'air_pressure_9am', 'air_temp_9am', 'avg_wind_direction_9am',\n",
       "       'avg_wind_speed_9am', 'max_wind_direction_9am', 'max_wind_speed_9am',\n",
       "       'rain_accumulation_9am', 'rain_duration_9am', 'relative_humidity_9am',\n",
       "       'relative_humidity_3pm'],\n",
       "      dtype='object')"
      ]
     },
     "execution_count": 7,
     "metadata": {},
     "output_type": "execute_result"
    }
   ],
   "source": [
    "data.columns"
   ]
  },
  {
   "cell_type": "code",
   "execution_count": 5,
   "id": "94aaeca5-788c-44e7-b3a1-d3b9bddd545d",
   "metadata": {},
   "outputs": [
    {
     "data": {
      "text/html": [
       "<div>\n",
       "<style scoped>\n",
       "    .dataframe tbody tr th:only-of-type {\n",
       "        vertical-align: middle;\n",
       "    }\n",
       "\n",
       "    .dataframe tbody tr th {\n",
       "        vertical-align: top;\n",
       "    }\n",
       "\n",
       "    .dataframe thead th {\n",
       "        text-align: right;\n",
       "    }\n",
       "</style>\n",
       "<table border=\"1\" class=\"dataframe\">\n",
       "  <thead>\n",
       "    <tr style=\"text-align: right;\">\n",
       "      <th></th>\n",
       "      <th>number</th>\n",
       "      <th>air_pressure_9am</th>\n",
       "      <th>air_temp_9am</th>\n",
       "      <th>avg_wind_direction_9am</th>\n",
       "      <th>avg_wind_speed_9am</th>\n",
       "      <th>max_wind_direction_9am</th>\n",
       "      <th>max_wind_speed_9am</th>\n",
       "      <th>rain_accumulation_9am</th>\n",
       "      <th>rain_duration_9am</th>\n",
       "      <th>relative_humidity_9am</th>\n",
       "      <th>relative_humidity_3pm</th>\n",
       "    </tr>\n",
       "  </thead>\n",
       "  <tbody>\n",
       "    <tr>\n",
       "      <th>0</th>\n",
       "      <td>0</td>\n",
       "      <td>918.060000</td>\n",
       "      <td>74.822000</td>\n",
       "      <td>271.100000</td>\n",
       "      <td>2.080354</td>\n",
       "      <td>295.400000</td>\n",
       "      <td>2.863283</td>\n",
       "      <td>0.0</td>\n",
       "      <td>0.0</td>\n",
       "      <td>42.420000</td>\n",
       "      <td>36.160000</td>\n",
       "    </tr>\n",
       "    <tr>\n",
       "      <th>1</th>\n",
       "      <td>1</td>\n",
       "      <td>917.347688</td>\n",
       "      <td>71.403843</td>\n",
       "      <td>101.935179</td>\n",
       "      <td>2.443009</td>\n",
       "      <td>140.471548</td>\n",
       "      <td>3.533324</td>\n",
       "      <td>0.0</td>\n",
       "      <td>0.0</td>\n",
       "      <td>24.328697</td>\n",
       "      <td>19.426597</td>\n",
       "    </tr>\n",
       "    <tr>\n",
       "      <th>2</th>\n",
       "      <td>2</td>\n",
       "      <td>923.040000</td>\n",
       "      <td>60.638000</td>\n",
       "      <td>51.000000</td>\n",
       "      <td>17.067852</td>\n",
       "      <td>63.700000</td>\n",
       "      <td>22.100967</td>\n",
       "      <td>0.0</td>\n",
       "      <td>20.0</td>\n",
       "      <td>8.900000</td>\n",
       "      <td>14.460000</td>\n",
       "    </tr>\n",
       "    <tr>\n",
       "      <th>3</th>\n",
       "      <td>3</td>\n",
       "      <td>920.502751</td>\n",
       "      <td>70.138895</td>\n",
       "      <td>198.832133</td>\n",
       "      <td>4.337363</td>\n",
       "      <td>211.203341</td>\n",
       "      <td>5.190045</td>\n",
       "      <td>0.0</td>\n",
       "      <td>0.0</td>\n",
       "      <td>12.189102</td>\n",
       "      <td>12.742547</td>\n",
       "    </tr>\n",
       "    <tr>\n",
       "      <th>4</th>\n",
       "      <td>4</td>\n",
       "      <td>921.160000</td>\n",
       "      <td>44.294000</td>\n",
       "      <td>277.800000</td>\n",
       "      <td>1.856660</td>\n",
       "      <td>136.500000</td>\n",
       "      <td>2.863283</td>\n",
       "      <td>8.9</td>\n",
       "      <td>14730.0</td>\n",
       "      <td>92.410000</td>\n",
       "      <td>76.740000</td>\n",
       "    </tr>\n",
       "  </tbody>\n",
       "</table>\n",
       "</div>"
      ],
      "text/plain": [
       "   number  air_pressure_9am  air_temp_9am  avg_wind_direction_9am  \\\n",
       "0       0        918.060000     74.822000              271.100000   \n",
       "1       1        917.347688     71.403843              101.935179   \n",
       "2       2        923.040000     60.638000               51.000000   \n",
       "3       3        920.502751     70.138895              198.832133   \n",
       "4       4        921.160000     44.294000              277.800000   \n",
       "\n",
       "   avg_wind_speed_9am  max_wind_direction_9am  max_wind_speed_9am  \\\n",
       "0            2.080354              295.400000            2.863283   \n",
       "1            2.443009              140.471548            3.533324   \n",
       "2           17.067852               63.700000           22.100967   \n",
       "3            4.337363              211.203341            5.190045   \n",
       "4            1.856660              136.500000            2.863283   \n",
       "\n",
       "   rain_accumulation_9am  rain_duration_9am  relative_humidity_9am  \\\n",
       "0                    0.0                0.0              42.420000   \n",
       "1                    0.0                0.0              24.328697   \n",
       "2                    0.0               20.0               8.900000   \n",
       "3                    0.0                0.0              12.189102   \n",
       "4                    8.9            14730.0              92.410000   \n",
       "\n",
       "   relative_humidity_3pm  \n",
       "0              36.160000  \n",
       "1              19.426597  \n",
       "2              14.460000  \n",
       "3              12.742547  \n",
       "4              76.740000  "
      ]
     },
     "execution_count": 5,
     "metadata": {},
     "output_type": "execute_result"
    }
   ],
   "source": [
    "data.head()"
   ]
  },
  {
   "cell_type": "code",
   "execution_count": 8,
   "id": "13d0f8e7-179e-4b0d-9031-95e1d40d6c77",
   "metadata": {},
   "outputs": [
    {
     "data": {
      "text/html": [
       "<div>\n",
       "<style scoped>\n",
       "    .dataframe tbody tr th:only-of-type {\n",
       "        vertical-align: middle;\n",
       "    }\n",
       "\n",
       "    .dataframe tbody tr th {\n",
       "        vertical-align: top;\n",
       "    }\n",
       "\n",
       "    .dataframe thead th {\n",
       "        text-align: right;\n",
       "    }\n",
       "</style>\n",
       "<table border=\"1\" class=\"dataframe\">\n",
       "  <thead>\n",
       "    <tr style=\"text-align: right;\">\n",
       "      <th></th>\n",
       "      <th>number</th>\n",
       "      <th>air_pressure_9am</th>\n",
       "      <th>air_temp_9am</th>\n",
       "      <th>avg_wind_direction_9am</th>\n",
       "      <th>avg_wind_speed_9am</th>\n",
       "      <th>max_wind_direction_9am</th>\n",
       "      <th>max_wind_speed_9am</th>\n",
       "      <th>rain_accumulation_9am</th>\n",
       "      <th>rain_duration_9am</th>\n",
       "      <th>relative_humidity_9am</th>\n",
       "      <th>relative_humidity_3pm</th>\n",
       "    </tr>\n",
       "  </thead>\n",
       "  <tbody>\n",
       "    <tr>\n",
       "      <th>16</th>\n",
       "      <td>16</td>\n",
       "      <td>917.890000</td>\n",
       "      <td>NaN</td>\n",
       "      <td>169.200000</td>\n",
       "      <td>2.192201</td>\n",
       "      <td>196.800000</td>\n",
       "      <td>2.930391</td>\n",
       "      <td>0.0</td>\n",
       "      <td>0.0</td>\n",
       "      <td>48.990000</td>\n",
       "      <td>51.190000</td>\n",
       "    </tr>\n",
       "    <tr>\n",
       "      <th>111</th>\n",
       "      <td>111</td>\n",
       "      <td>915.290000</td>\n",
       "      <td>58.820000</td>\n",
       "      <td>182.600000</td>\n",
       "      <td>15.613841</td>\n",
       "      <td>189.000000</td>\n",
       "      <td>NaN</td>\n",
       "      <td>0.0</td>\n",
       "      <td>0.0</td>\n",
       "      <td>21.500000</td>\n",
       "      <td>29.690000</td>\n",
       "    </tr>\n",
       "    <tr>\n",
       "      <th>177</th>\n",
       "      <td>177</td>\n",
       "      <td>915.900000</td>\n",
       "      <td>NaN</td>\n",
       "      <td>183.300000</td>\n",
       "      <td>4.719943</td>\n",
       "      <td>189.900000</td>\n",
       "      <td>5.346287</td>\n",
       "      <td>0.0</td>\n",
       "      <td>0.0</td>\n",
       "      <td>29.260000</td>\n",
       "      <td>46.500000</td>\n",
       "    </tr>\n",
       "    <tr>\n",
       "      <th>262</th>\n",
       "      <td>262</td>\n",
       "      <td>923.596607</td>\n",
       "      <td>58.380598</td>\n",
       "      <td>47.737753</td>\n",
       "      <td>10.636273</td>\n",
       "      <td>67.145843</td>\n",
       "      <td>13.671423</td>\n",
       "      <td>0.0</td>\n",
       "      <td>NaN</td>\n",
       "      <td>17.990876</td>\n",
       "      <td>16.461685</td>\n",
       "    </tr>\n",
       "    <tr>\n",
       "      <th>277</th>\n",
       "      <td>277</td>\n",
       "      <td>920.480000</td>\n",
       "      <td>62.600000</td>\n",
       "      <td>194.400000</td>\n",
       "      <td>2.751436</td>\n",
       "      <td>NaN</td>\n",
       "      <td>3.869906</td>\n",
       "      <td>0.0</td>\n",
       "      <td>0.0</td>\n",
       "      <td>52.580000</td>\n",
       "      <td>54.030000</td>\n",
       "    </tr>\n",
       "  </tbody>\n",
       "</table>\n",
       "</div>"
      ],
      "text/plain": [
       "     number  air_pressure_9am  air_temp_9am  avg_wind_direction_9am  \\\n",
       "16       16        917.890000           NaN              169.200000   \n",
       "111     111        915.290000     58.820000              182.600000   \n",
       "177     177        915.900000           NaN              183.300000   \n",
       "262     262        923.596607     58.380598               47.737753   \n",
       "277     277        920.480000     62.600000              194.400000   \n",
       "\n",
       "     avg_wind_speed_9am  max_wind_direction_9am  max_wind_speed_9am  \\\n",
       "16             2.192201              196.800000            2.930391   \n",
       "111           15.613841              189.000000                 NaN   \n",
       "177            4.719943              189.900000            5.346287   \n",
       "262           10.636273               67.145843           13.671423   \n",
       "277            2.751436                     NaN            3.869906   \n",
       "\n",
       "     rain_accumulation_9am  rain_duration_9am  relative_humidity_9am  \\\n",
       "16                     0.0                0.0              48.990000   \n",
       "111                    0.0                0.0              21.500000   \n",
       "177                    0.0                0.0              29.260000   \n",
       "262                    0.0                NaN              17.990876   \n",
       "277                    0.0                0.0              52.580000   \n",
       "\n",
       "     relative_humidity_3pm  \n",
       "16               51.190000  \n",
       "111              29.690000  \n",
       "177              46.500000  \n",
       "262              16.461685  \n",
       "277              54.030000  "
      ]
     },
     "execution_count": 8,
     "metadata": {},
     "output_type": "execute_result"
    }
   ],
   "source": [
    "data[data.isnull().any(axis=1)].head()"
   ]
  },
  {
   "cell_type": "code",
   "execution_count": 10,
   "id": "eac3494d-b651-49be-931b-50c6435a5c22",
   "metadata": {},
   "outputs": [],
   "source": [
    "del data['number']"
   ]
  },
  {
   "cell_type": "code",
   "execution_count": 11,
   "id": "79d2a6b8-f4aa-4d38-a7b7-f396f9a18394",
   "metadata": {},
   "outputs": [],
   "source": [
    "before_rows=data.shape[0]"
   ]
  },
  {
   "cell_type": "code",
   "execution_count": 13,
   "id": "9eeaca98-b83b-4f24-a89b-a71fd26fcfa4",
   "metadata": {},
   "outputs": [
    {
     "name": "stdout",
     "output_type": "stream",
     "text": [
      "1095\n"
     ]
    }
   ],
   "source": [
    "print(before_rows)"
   ]
  },
  {
   "cell_type": "code",
   "execution_count": 14,
   "id": "51d15e74-8482-4c96-9877-e662e3b91bd4",
   "metadata": {},
   "outputs": [],
   "source": [
    "data = data.dropna()"
   ]
  },
  {
   "cell_type": "code",
   "execution_count": 15,
   "id": "71a3e6b1-8cb1-42c4-8bae-6017ffac5aaa",
   "metadata": {},
   "outputs": [],
   "source": [
    "after_rows = data.shape[0]"
   ]
  },
  {
   "cell_type": "code",
   "execution_count": 16,
   "id": "5865148e-6b4a-4c3b-a74d-faa21ede5885",
   "metadata": {},
   "outputs": [
    {
     "name": "stdout",
     "output_type": "stream",
     "text": [
      "1064\n"
     ]
    }
   ],
   "source": [
    "print(after_rows)"
   ]
  },
  {
   "cell_type": "code",
   "execution_count": 17,
   "id": "3e534a8f-d7cc-4f7e-aa96-6753fcf03c1e",
   "metadata": {},
   "outputs": [
    {
     "data": {
      "text/plain": [
       "31"
      ]
     },
     "execution_count": 17,
     "metadata": {},
     "output_type": "execute_result"
    }
   ],
   "source": [
    "before_rows-after_rows"
   ]
  },
  {
   "cell_type": "code",
   "execution_count": null,
   "id": "bf0a5718-39c5-4141-96a5-88da9a02550b",
   "metadata": {},
   "outputs": [],
   "source": []
  }
 ],
 "metadata": {
  "kernelspec": {
   "display_name": "Python 3 (ipykernel)",
   "language": "python",
   "name": "python3"
  },
  "language_info": {
   "codemirror_mode": {
    "name": "ipython",
    "version": 3
   },
   "file_extension": ".py",
   "mimetype": "text/x-python",
   "name": "python",
   "nbconvert_exporter": "python",
   "pygments_lexer": "ipython3",
   "version": "3.12.4"
  }
 },
 "nbformat": 4,
 "nbformat_minor": 5
}
