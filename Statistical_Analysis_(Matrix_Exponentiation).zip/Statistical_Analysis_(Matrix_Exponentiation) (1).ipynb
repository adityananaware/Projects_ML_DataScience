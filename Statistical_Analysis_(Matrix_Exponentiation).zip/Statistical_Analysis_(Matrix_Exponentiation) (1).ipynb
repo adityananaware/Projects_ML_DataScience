{
  "nbformat": 4,
  "nbformat_minor": 0,
  "metadata": {
    "colab": {
      "provenance": []
    },
    "kernelspec": {
      "name": "python3",
      "display_name": "Python 3"
    },
    "language_info": {
      "name": "python"
    }
  },
  "cells": [
    {
      "cell_type": "code",
      "execution_count": 13,
      "metadata": {
        "id": "82fGhcB4QgoZ"
      },
      "outputs": [],
      "source": [
        "import numpy as np"
      ]
    },
    {
      "cell_type": "code",
      "source": [
        "# Define a square matrix\n",
        "matrix = np.array([[5, 0], [0, 5]])"
      ],
      "metadata": {
        "id": "JY15QfD7Qqc8"
      },
      "execution_count": 14,
      "outputs": []
    },
    {
      "cell_type": "code",
      "source": [
        "# Perform matrix exponentiation\n",
        "exponentiated_matrix = np.linalg.matrix_power(matrix, 3)"
      ],
      "metadata": {
        "id": "jY8t2MYxQshE"
      },
      "execution_count": 15,
      "outputs": []
    },
    {
      "cell_type": "code",
      "source": [
        "print(\"Original Matrix:\\n\", matrix)\n",
        "print(\"Matrix Exponentiation (Power 3):\\n\", exponentiated_matrix)"
      ],
      "metadata": {
        "colab": {
          "base_uri": "https://localhost:8080/"
        },
        "id": "n-JUprckQvuZ",
        "outputId": "f31bae73-d1c4-47e8-c754-ab76540dcdb1"
      },
      "execution_count": 16,
      "outputs": [
        {
          "output_type": "stream",
          "name": "stdout",
          "text": [
            "Original Matrix:\n",
            " [[5 0]\n",
            " [0 5]]\n",
            "Matrix Exponentiation (Power 3):\n",
            " [[125   0]\n",
            " [  0 125]]\n"
          ]
        }
      ]
    },
    {
      "cell_type": "code",
      "source": [],
      "metadata": {
        "id": "4s7V9rXRQxj-"
      },
      "execution_count": null,
      "outputs": []
    }
  ]
}