{
  "nbformat": 4,
  "nbformat_minor": 0,
  "metadata": {
    "colab": {
      "provenance": []
    },
    "kernelspec": {
      "name": "python3",
      "display_name": "Python 3"
    },
    "language_info": {
      "name": "python"
    }
  },
  "cells": [
    {
      "cell_type": "code",
      "execution_count": 1,
      "metadata": {
        "id": "GXL_dfFtOmBe"
      },
      "outputs": [],
      "source": [
        "import numpy as np"
      ]
    },
    {
      "cell_type": "code",
      "source": [
        "# Define a custom data type\n",
        "data_type = np.dtype([('name', 'U10'), ('age', 'i4'), ('score', 'f4')])"
      ],
      "metadata": {
        "id": "wVvDKx0-Ovu9"
      },
      "execution_count": 2,
      "outputs": []
    },
    {
      "cell_type": "code",
      "source": [
        "# Create an array with the custom data type\n",
        "students = np.array([('Aditya', 21, 95.5), ('Bharat', 23, 80.0), ('Siddhant', 18, 80.0)], dtype=data_type)"
      ],
      "metadata": {
        "id": "0ItEQogqOydi"
      },
      "execution_count": 6,
      "outputs": []
    },
    {
      "cell_type": "code",
      "source": [
        "# Accessing elements\n",
        "print(\"Names:\", students['name'])\n",
        "print(\"Ages:\", students['age'])\n",
        "print(\"Scores:\", students['score'])"
      ],
      "metadata": {
        "colab": {
          "base_uri": "https://localhost:8080/"
        },
        "id": "InHkgydPO1mA",
        "outputId": "aae2f093-7f1b-4134-a865-81d34dcb6aef"
      },
      "execution_count": 7,
      "outputs": [
        {
          "output_type": "stream",
          "name": "stdout",
          "text": [
            "Names: ['Aditya' 'Bharat' 'Siddhant']\n",
            "Ages: [21 23 18]\n",
            "Scores: [95.5 80.  80. ]\n"
          ]
        }
      ]
    },
    {
      "cell_type": "code",
      "source": [],
      "metadata": {
        "id": "Iq7lo2ZKO434"
      },
      "execution_count": null,
      "outputs": []
    }
  ]
}